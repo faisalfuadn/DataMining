{
 "cells": [
  {
   "cell_type": "code",
   "execution_count": 22,
   "metadata": {},
   "outputs": [],
   "source": [
    "import numpy as np \n",
    "iteration = 10000\n",
    "lr = 0.1"
   ]
  },
  {
   "cell_type": "code",
   "execution_count": 21,
   "metadata": {},
   "outputs": [],
   "source": [
    "#Input datasets\n",
    "input_data= np.array([[0,0],[0,1],[1,0],[1,1]])\n",
    "label_data = np.array([[0],[1],[1],[0]])"
   ]
  },
  {
   "cell_type": "code",
   "execution_count": 16,
   "metadata": {},
   "outputs": [],
   "source": [
    "def sigmoid (x):\n",
    "    y= 1/(1 + np.exp(-x))\n",
    "    return y"
   ]
  },
  {
   "cell_type": "code",
   "execution_count": 17,
   "metadata": {},
   "outputs": [],
   "source": [
    "def d_sigmoid(x):\n",
    "    y= x * (1 - x)\n",
    "    return y"
   ]
  },
  {
   "cell_type": "code",
   "execution_count": 23,
   "metadata": {},
   "outputs": [],
   "source": [
    "#Training algorithm\n",
    "def main():\n",
    "   #Random weights and bias initialization\n",
    "    input_weights= np.random.uniform(size=(3,2))\n",
    "    hidden_weights = np.random.uniform(size=(3,1))\n",
    "    for iterate in range (iteration):\n",
    "        #forward propagation\n",
    "        ##input to hidden\n",
    "        hidden_summation=np.dot(input_data, input_weights[1:])+input_weights[:1]\n",
    "        hidden_output=sigmoid(hidden_summation)\n",
    "        ##hidden to output\n",
    "        output_summation=np.dot(hidden_output, hidden_weights[1:])+hidden_weights[:1]\n",
    "        predicted_output=sigmoid(output_summation)\n",
    "\n",
    "        #backward propagation\n",
    "        ##output error calculation\n",
    "        error_output=(label_data-predicted_output)\n",
    "        d_predicted_output=error_output*d_sigmoid(predicted_output)\n",
    "        ##hidden error calculation\n",
    "        error_hidden=d_predicted_output.dot(hidden_weights[1:].T)\n",
    "        d_hidden_layer=error_hidden*d_sigmoid(hidden_output)\n",
    "\n",
    "        #updating weight and bias\n",
    "        #updating weight hidden\n",
    "        hidden_weights[1:]+=hidden_output.T.dot(d_predicted_output)*lr\n",
    "        hidden_weights[:1]+=np.sum(d_predicted_output,axis=0,keepdims=True) * lr\n",
    "        #updating weight input\n",
    "        input_weights[1:]+=input_data.T.dot(d_hidden_layer) * lr\n",
    "        input_weights[:1]+=np.sum(d_hidden_layer,axis=0,keepdims=True) * lr\n",
    "    return input_weights, hidden_weights, predicted_output"
   ]
  },
  {
   "cell_type": "code",
   "execution_count": 24,
   "metadata": {},
   "outputs": [],
   "source": [
    "#%%\n",
    "def transfer_learning():\n",
    "    BPN=main()\n",
    "    output=BPN[2]\n",
    "    for i in range(len(output)):\n",
    "        if output[i]>0.5:\n",
    "            output[i]=int(1)\n",
    "        else:\n",
    "            output[i]=int(0)\n",
    "    return output"
   ]
  },
  {
   "cell_type": "code",
   "execution_count": 25,
   "metadata": {},
   "outputs": [
    {
     "data": {
      "text/plain": [
       "array([[0.],\n",
       "       [1.],\n",
       "       [1.],\n",
       "       [0.]])"
      ]
     },
     "execution_count": 25,
     "metadata": {},
     "output_type": "execute_result"
    }
   ],
   "source": [
    "transfer_learning()"
   ]
  },
  {
   "cell_type": "code",
   "execution_count": null,
   "metadata": {},
   "outputs": [],
   "source": []
  }
 ],
 "metadata": {
  "kernelspec": {
   "display_name": "Python 3",
   "language": "python",
   "name": "python3"
  },
  "language_info": {
   "codemirror_mode": {
    "name": "ipython",
    "version": 3
   },
   "file_extension": ".py",
   "mimetype": "text/x-python",
   "name": "python",
   "nbconvert_exporter": "python",
   "pygments_lexer": "ipython3",
   "version": "3.7.1"
  }
 },
 "nbformat": 4,
 "nbformat_minor": 2
}
